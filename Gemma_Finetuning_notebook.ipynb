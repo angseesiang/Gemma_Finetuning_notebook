{
  "nbformat": 4,
  "nbformat_minor": 0,
  "metadata": {
    "colab": {
      "provenance": [],
      "gpuType": "T4"
    },
    "kernelspec": {
      "name": "python3",
      "display_name": "Python 3"
    },
    "language_info": {
      "name": "python"
    },
    "accelerator": "GPU"
  },
  "cells": [
    {
      "cell_type": "markdown",
      "source": [
        "# Gemma-Finetuning-notebook"
      ],
      "metadata": {
        "id": "JYiF21W61Sqa"
      }
    },
    {
      "cell_type": "code",
      "source": [
        "!pip3 install -q -U bitsandbytes\n",
        "!pip3 install -q -U peft\n",
        "!pip3 install -q -U trl\n",
        "!pip3 install -q -U accelerate\n",
        "!pip3 install -q -U datasets\n",
        "!pip3 install -q -U transformers\n"
      ],
      "metadata": {
        "colab": {
          "base_uri": "https://localhost:8080/"
        },
        "id": "AXtKy9N91VuS",
        "outputId": "bee48a61-4633-4c6f-ddd7-5b89afd3a7bf"
      },
      "execution_count": 1,
      "outputs": [
        {
          "output_type": "stream",
          "name": "stdout",
          "text": [
            "\u001b[2K   \u001b[90m━━━━━━━━━━━━━━━━━━━━━━━━━━━━━━━━━━━━━━━━\u001b[0m \u001b[32m61.3/61.3 MB\u001b[0m \u001b[31m11.9 MB/s\u001b[0m eta \u001b[36m0:00:00\u001b[0m\n",
            "\u001b[2K   \u001b[90m━━━━━━━━━━━━━━━━━━━━━━━━━━━━━━━━━━━━━━━━\u001b[0m \u001b[32m564.7/564.7 kB\u001b[0m \u001b[31m30.9 MB/s\u001b[0m eta \u001b[36m0:00:00\u001b[0m\n",
            "\u001b[?25h"
          ]
        }
      ]
    },
    {
      "cell_type": "code",
      "source": [
        "import os\n",
        "import transformers\n",
        "import torch\n",
        "from google.colab import userdata\n",
        "from datasets import load_dataset\n",
        "from trl import SFTTrainer\n",
        "from peft import LoraConfig\n",
        "from transformers import AutoTokenizer, AutoModelForCausalLM\n",
        "from transformers import BitsAndBytesConfig, GemmaTokenizer\n"
      ],
      "metadata": {
        "id": "TNbdSHXq1cK9"
      },
      "execution_count": 2,
      "outputs": []
    },
    {
      "cell_type": "markdown",
      "source": [
        "* Go to https://huggingface.co/\n",
        "* Log into the **account**\n",
        "* Click **Setting**\n",
        "* Click **Access Tokens** or https://huggingface.co/settings/tokens\n",
        "* Click **Create New Token**\n",
        "* Input **Token Name**\n",
        "* click **Key** icon inside colab\n",
        "* Add **Name** as **HF** and input the access token into the **value**"
      ],
      "metadata": {
        "id": "JSptIBT-2s34"
      }
    },
    {
      "cell_type": "code",
      "source": [
        "os.environ[\"HF\"] = userdata.get('HF')\n"
      ],
      "metadata": {
        "id": "GT9OMjCD1h0d"
      },
      "execution_count": 3,
      "outputs": []
    },
    {
      "cell_type": "markdown",
      "source": [
        "# Model"
      ],
      "metadata": {
        "id": "PwVto5RY1j6d"
      }
    },
    {
      "cell_type": "code",
      "source": [
        "model_id = \"google/gemma-2b\"\n",
        "bnb_config = BitsAndBytesConfig(\n",
        "    load_in_4bit=True,\n",
        "    bnb_4bit_quant_type=\"nf4\",\n",
        "    bnb_4bit_compute_dtype=torch.bfloat16\n",
        ")\n"
      ],
      "metadata": {
        "id": "htULD2kU1lUs"
      },
      "execution_count": 4,
      "outputs": []
    },
    {
      "cell_type": "code",
      "source": [
        "tokenizer = AutoTokenizer.from_pretrained(model_id, token=os.environ['HF'])\n",
        "model = AutoModelForCausalLM.from_pretrained(model_id,\n",
        "                                             quantization_config=bnb_config,\n",
        "                                             device_map={\"\":0},\n",
        "                                             token=os.environ['HF'])\n"
      ],
      "metadata": {
        "colab": {
          "base_uri": "https://localhost:8080/",
          "height": 496,
          "referenced_widgets": [
            "ed55e1a477c748f5b4b603def75e51e7",
            "9b0edd5d844848aeb6e978970051b0c5",
            "3b0696655209440ebfa19f6cbba2e918",
            "04f4f81deac14fbf9cc8f14788ac0c9a",
            "35b498dc15e9488481a1a516d7c12099",
            "b12e70c68aab491fa21c1a0785425505",
            "851f679af6aa498cab9674a6cb9142d5",
            "8ef57c2767ab460cb4ae61a268172c87",
            "fbcf501c0dd542b2a986e636dcb3cc39",
            "5f3f34c4a681450aa7728b68968abb70",
            "b14d21a212d4426eb2c94935a911dc73",
            "0728ce661b3c4d78bb07fac4df3b74f2",
            "d34d6190d0e44edba3b2f3218b75fce5",
            "651892c357c2493f8756509d2d7dc041",
            "babbc609e4fa463bac16556def6d4efc",
            "07b41fa0f60f4bbea740914682e2da99",
            "edfaccf992a043768822662a61c89493",
            "24357fffd9f4474c9a7008b970705b34",
            "94c11060179b4290ab734eb868069f60",
            "40f3ab2cb1ad421ea84d510db5f37485",
            "b58ebb4ebe95471eb6b793a7f603017b",
            "539e78632d334db0950c460c95994a1d",
            "d504b2d6c70b42e4b5bdade05587b6fe",
            "175558b5d8044839bc0b79c88fdde339",
            "53ef7700fa694a6ba097c85e16ea0284",
            "467be6ccf5a8447788ea5f10a042dc62",
            "173d604758e94ce6b61d498a689cd2c8",
            "05a7d557d683462888e63304a1a54189",
            "1084b244a940437286237a0ff7c0d5b4",
            "05982a778cd7437ba376853f38f4ffc1",
            "39915f8e01be41a4adc5419af6637976",
            "34dac66f378b4897be53ab07d50be718",
            "9ed0c81ebe4048ab8940810560a09b82",
            "1f88fb449dc04069bbe66eea9bdd00ef",
            "3e377abb8a4a48598eed5e534354edb8",
            "fea1d4dd3d56467894536aefd1384981",
            "7e20f551cac3404dafcc8d52567708c6",
            "e67134eb3c4c4f1898c2d1caea05726e",
            "9b1aa721de34467e992efaf5f925581f",
            "cf67161f764447dbae1c2576d2241adf",
            "c4af11fb53e647bbad15f40376e185cd",
            "8bd0b6331efa47688d1923b8d7dbeb84",
            "16ac5b92e92f485c87510ba02eeb1f9b",
            "ac8f35808e1c46e2849f2ca8008f7864",
            "72483f336cf74b48b16268dda3097ecf",
            "ba4f9d47c18049129646cf1d3baa0058",
            "d6b28d63b0bb420eb4c40a55d29d3135",
            "bca07b12c08d446fb2bf31616cbd585f",
            "7166947e311c4ea793a3f28073c77974",
            "31e77719c82843a4ace029958bfac12c",
            "19d07d96a9f34d149e39772c3cfe345d",
            "ef2a8e9702a0418d8e5afb7992e40647",
            "99f3eec25c044ac183a57dc40f29a6d4",
            "6e71dbb4b144486788b1d7510f04ed57",
            "f063f1821fe446c9b136a962ebd3cef9",
            "1dcd355336c241298f13edaf82792783",
            "501b45052c394940839be1ce6a61d4d1",
            "a9a064660fe244b49ccb41be18b1046f",
            "670825c3194d4011892b2c93c93e1ce7",
            "490b9b59c3384f499dfff3c8d7c5305e",
            "acf454daf6864478b537150eb4e4ad17",
            "c8fdb94012d04d1eb208eca633110b9a",
            "6ec3c1950e644776a49454bb4b2a1d8b",
            "1402e1934f374e1b958cc385b90f1242",
            "d3981e7ed4224482a44607c5d2199b2d",
            "6b2b6d199383470db862205c8dc73d10",
            "3348ce88fb12427fbf59e521024ee7a3",
            "0ba35fa6dd364912afb0cb39cabd8d85",
            "2bc12dcdd7b847d0ae8869ff6f5ccbfd",
            "a0f460c68b7e44ff967e3842b401b0f1",
            "3be52f48004241589dad5c3683a65cc8",
            "2cb15f1b3f85479ca847c265085dc986",
            "74837077cc3f4125806cc7faa5245d14",
            "1c167e29fbcd40a091102228c93ed855",
            "b3d26104d3c7423196861ab210ebc83d",
            "26df5a38a1af49e99868b372f1cd3f25",
            "ef2580118f484b88a41877ad62a7bea2",
            "be3df29cb998465c913c00b9996eef59",
            "13fd6f76d7fd4c20b5303c1975fa6a1e",
            "874f29cf912546ce89ce1f659b48208f",
            "e0e5fbc234fb4b1698a650a38cf84887",
            "73d6897ff0ee4889b28573352b37b456",
            "52205af813c441f295e999999398b8b4",
            "836ddce9143f469dbdd0d5ccf1569fb1",
            "30cd910a64324d2889c9f187ec358c03",
            "33be293276434faca44989a7b011ac5b",
            "11b05cee92604cca9170c1fc753e10a7",
            "e3b195e7cf4f447e85dccd9ea1c8892e",
            "5afc66057f5146da8b0d86a9ac90a0ef",
            "d79e5a16309a4f1883ef97da7c1e751e",
            "091c25390dce4cac8cb74070719900a7",
            "76e197de2e114461b104853ebf08872e",
            "a3a7819aa70d45b8ab21f50b909dd5e9",
            "ad6396bc08624223b9326729834ba4eb",
            "85c72e9f320345ff975caa670728b47f",
            "1637ca14d3a0419490f6b098f56bd56c",
            "6d7113e61df04b529b78904fa61a087b",
            "32c18d36bdbe4867a64afb16606660be",
            "85b2296c62554e4688d979da55ac3b5b",
            "81a58678ec664777a94daf314a6080a4",
            "0ef7384ead4f4629a40e85e99f9b2258",
            "06d8632e3c874932a95163c381e904dd",
            "14ce1ddb3d074ca29f1dcf6c5bf17345",
            "ca5ca4144c5c48feb65d22af2c503635",
            "b161321bf02c4c3ab22e690a29c1639e",
            "d4070f930c304a0e812f41b8dbe17345",
            "4cd620e891104d4d9eef3ee2e67e42db",
            "a2f2221693b74207b47dc8cdd4f1000f",
            "8eac56e84e104562a3fa84a29c21b86a",
            "7c3eaf60347f40ddb1f1de7d17bee19f",
            "e0e7dd2d9c524efca8b4813482847889",
            "b887182f63c1454e8f4bc0ce724ebcf3",
            "250279073340498aad30e7c8c51f7e96",
            "ee7de3945812485cae45e4a221bb7c01",
            "61a95e2bc75c45d49f3f8bc0832691a2",
            "ea7776817b8e451ab93d54db6502d428",
            "5c591b049e964360bef6fc0a45efeff2",
            "24a2e066ecef407e8690ff80e9c91e4c",
            "dc0896ec318147008a046b8b27ce4a20",
            "47215d052a8140359373c86924d7e5dc",
            "42563fd3843244a983554197b6dc6d94"
          ]
        },
        "id": "C8zDACp34Xz1",
        "outputId": "91161ccb-8756-43a1-c215-e050c9806f53"
      },
      "execution_count": 5,
      "outputs": [
        {
          "output_type": "display_data",
          "data": {
            "text/plain": [
              "tokenizer_config.json:   0%|          | 0.00/33.6k [00:00<?, ?B/s]"
            ],
            "application/vnd.jupyter.widget-view+json": {
              "version_major": 2,
              "version_minor": 0,
              "model_id": "ed55e1a477c748f5b4b603def75e51e7"
            }
          },
          "metadata": {}
        },
        {
          "output_type": "stream",
          "name": "stderr",
          "text": [
            "/usr/local/lib/python3.12/dist-packages/huggingface_hub/utils/_auth.py:94: UserWarning: \n",
            "The secret `HF_TOKEN` does not exist in your Colab secrets.\n",
            "To authenticate with the Hugging Face Hub, create a token in your settings tab (https://huggingface.co/settings/tokens), set it as secret in your Google Colab and restart your session.\n",
            "You will be able to reuse this secret in all of your notebooks.\n",
            "Please note that authentication is recommended but still optional to access public models or datasets.\n",
            "  warnings.warn(\n"
          ]
        },
        {
          "output_type": "display_data",
          "data": {
            "text/plain": [
              "tokenizer.model:   0%|          | 0.00/4.24M [00:00<?, ?B/s]"
            ],
            "application/vnd.jupyter.widget-view+json": {
              "version_major": 2,
              "version_minor": 0,
              "model_id": "0728ce661b3c4d78bb07fac4df3b74f2"
            }
          },
          "metadata": {}
        },
        {
          "output_type": "display_data",
          "data": {
            "text/plain": [
              "tokenizer.json:   0%|          | 0.00/17.5M [00:00<?, ?B/s]"
            ],
            "application/vnd.jupyter.widget-view+json": {
              "version_major": 2,
              "version_minor": 0,
              "model_id": "d504b2d6c70b42e4b5bdade05587b6fe"
            }
          },
          "metadata": {}
        },
        {
          "output_type": "display_data",
          "data": {
            "text/plain": [
              "special_tokens_map.json:   0%|          | 0.00/636 [00:00<?, ?B/s]"
            ],
            "application/vnd.jupyter.widget-view+json": {
              "version_major": 2,
              "version_minor": 0,
              "model_id": "1f88fb449dc04069bbe66eea9bdd00ef"
            }
          },
          "metadata": {}
        },
        {
          "output_type": "display_data",
          "data": {
            "text/plain": [
              "config.json:   0%|          | 0.00/627 [00:00<?, ?B/s]"
            ],
            "application/vnd.jupyter.widget-view+json": {
              "version_major": 2,
              "version_minor": 0,
              "model_id": "72483f336cf74b48b16268dda3097ecf"
            }
          },
          "metadata": {}
        },
        {
          "output_type": "display_data",
          "data": {
            "text/plain": [
              "model.safetensors.index.json:   0%|          | 0.00/13.5k [00:00<?, ?B/s]"
            ],
            "application/vnd.jupyter.widget-view+json": {
              "version_major": 2,
              "version_minor": 0,
              "model_id": "1dcd355336c241298f13edaf82792783"
            }
          },
          "metadata": {}
        },
        {
          "output_type": "display_data",
          "data": {
            "text/plain": [
              "Fetching 2 files:   0%|          | 0/2 [00:00<?, ?it/s]"
            ],
            "application/vnd.jupyter.widget-view+json": {
              "version_major": 2,
              "version_minor": 0,
              "model_id": "3348ce88fb12427fbf59e521024ee7a3"
            }
          },
          "metadata": {}
        },
        {
          "output_type": "display_data",
          "data": {
            "text/plain": [
              "model-00002-of-00002.safetensors:   0%|          | 0.00/67.1M [00:00<?, ?B/s]"
            ],
            "application/vnd.jupyter.widget-view+json": {
              "version_major": 2,
              "version_minor": 0,
              "model_id": "be3df29cb998465c913c00b9996eef59"
            }
          },
          "metadata": {}
        },
        {
          "output_type": "display_data",
          "data": {
            "text/plain": [
              "model-00001-of-00002.safetensors:   0%|          | 0.00/4.95G [00:00<?, ?B/s]"
            ],
            "application/vnd.jupyter.widget-view+json": {
              "version_major": 2,
              "version_minor": 0,
              "model_id": "5afc66057f5146da8b0d86a9ac90a0ef"
            }
          },
          "metadata": {}
        },
        {
          "output_type": "display_data",
          "data": {
            "text/plain": [
              "Loading checkpoint shards:   0%|          | 0/2 [00:00<?, ?it/s]"
            ],
            "application/vnd.jupyter.widget-view+json": {
              "version_major": 2,
              "version_minor": 0,
              "model_id": "81a58678ec664777a94daf314a6080a4"
            }
          },
          "metadata": {}
        },
        {
          "output_type": "display_data",
          "data": {
            "text/plain": [
              "generation_config.json:   0%|          | 0.00/137 [00:00<?, ?B/s]"
            ],
            "application/vnd.jupyter.widget-view+json": {
              "version_major": 2,
              "version_minor": 0,
              "model_id": "e0e7dd2d9c524efca8b4813482847889"
            }
          },
          "metadata": {}
        }
      ]
    },
    {
      "cell_type": "markdown",
      "source": [
        "# Test for Pre trained model"
      ],
      "metadata": {
        "id": "1Qs30OEb4fjE"
      }
    },
    {
      "cell_type": "code",
      "source": [
        "text = \"Quote: Imagination is more,\"\n",
        "device = \"cuda:0\"\n",
        "inputs = tokenizer(text, return_tensors=\"pt\").to(device)\n",
        "\n",
        "outputs = model.generate(**inputs, max_new_tokens=20)\n",
        "print(tokenizer.decode(outputs[0], skip_special_tokens=True))\n"
      ],
      "metadata": {
        "id": "POj8Hb5r4g6n",
        "colab": {
          "base_uri": "https://localhost:8080/"
        },
        "outputId": "4ad9a4b1-4d30-4890-c893-adfe45d979fe"
      },
      "execution_count": 6,
      "outputs": [
        {
          "output_type": "stream",
          "name": "stdout",
          "text": [
            "Quote: Imagination is more, than knowledge.\n",
            "\n",
            "I am a self-taught artist, born in 1985 in\n"
          ]
        }
      ]
    },
    {
      "cell_type": "code",
      "source": [
        "text = \"Quote: Imagination is more\"\n",
        "device = \"cuda:0\"\n",
        "inputs = tokenizer(text, return_tensors=\"pt\").to(device)\n",
        "\n",
        "outputs = model.generate(**inputs, max_new_tokens=20)\n",
        "print(tokenizer.decode(outputs[0], skip_special_tokens=True))\n"
      ],
      "metadata": {
        "id": "S7KMVhzX5GAz",
        "colab": {
          "base_uri": "https://localhost:8080/"
        },
        "outputId": "ae0a06c9-dafa-42bd-dcbc-d7fab8a8b6c4"
      },
      "execution_count": 7,
      "outputs": [
        {
          "output_type": "stream",
          "name": "stdout",
          "text": [
            "Quote: Imagination is more important than knowledge. Knowledge is limited. Imagination encircles the world.\n",
            "\n",
            "- Albert Einstein\n",
            "\n",
            "The\n"
          ]
        }
      ]
    },
    {
      "cell_type": "code",
      "source": [
        "os.environ[\"WANDB_DISABLED\"] = \"false\"\n"
      ],
      "metadata": {
        "id": "_vA88h5b5Ls9"
      },
      "execution_count": 8,
      "outputs": []
    },
    {
      "cell_type": "markdown",
      "source": [
        "# Fine Tuning"
      ],
      "metadata": {
        "id": "cOirvAl-52_S"
      }
    },
    {
      "cell_type": "code",
      "source": [
        "lora_config = LoraConfig(\n",
        "    r = 8,\n",
        "    target_modules = [\"q_proj\", \"o_proj\", \"k_proj\", \"v_proj\",\n",
        "                      \"gate_proj\", \"up_proj\", \"down_proj\"],\n",
        "    task_type = \"CAUSAL_LM\",\n",
        ")\n"
      ],
      "metadata": {
        "id": "IXFq-YPB5_fq"
      },
      "execution_count": 9,
      "outputs": []
    },
    {
      "cell_type": "code",
      "source": [
        "from datasets import load_dataset\n",
        "\n",
        "data = load_dataset(\"Abirate/english_quotes\")\n",
        "data = data.map(lambda samples: tokenizer(samples[\"quote\"]), batched=True)\n"
      ],
      "metadata": {
        "id": "FcMczPNo6BaD",
        "colab": {
          "base_uri": "https://localhost:8080/",
          "height": 145,
          "referenced_widgets": [
            "a1fae1f605474202b7c1fe93c8139699",
            "4cb210effbf1410a895bf4c43e7d757a",
            "4f03a1e243b4409c90494b1e7a629836",
            "291325145a8c45dcb7b7d980fe0b8427",
            "0ea83286d4c54e2aafc85b364d4b47d3",
            "b905ab9abc874180bc7b10b8963103a4",
            "2f46712acc2a42bb9c64f4769399a455",
            "3daa0c5c68484c1cbe6c528368d85336",
            "061188688cd34b85a90fc3354f72d561",
            "7e3af2ef6a6d4d43946986f8582b4905",
            "8fbb0ed0cfab43d99aafd858c0af3cbf",
            "08081f8b13b54ac6adc4bec69c9123dc",
            "3e231edf206e4a4d9c757d25187c5e42",
            "a92dec06f76640b0a7ed910375c46dd3",
            "28597526b8f947c48ccb10a1bc59cca6",
            "ab9e3447fa134c6488dd1fb5d9ee156f",
            "d79b0d3ccaa14922b0a09cbf914ac4d0",
            "4a3fd119087742c588796565f0ddabe5",
            "a628c4e48f884e93bb41da3d00195527",
            "415f3c61f2bf411da032331ed75a7ea5",
            "d16caf5c17a74b3aa64f774ecbe0f6b4",
            "dde37e6202b545a58f92175d85cae48a",
            "fbed9bce4d044278a4d7c42940a28a69",
            "b84d1abb99c24061bfae9ae16e4b589c",
            "bc4a4b70668c40b8a7459ec5ec86f206",
            "1da173f4c68e42d8958d40d0c86738cf",
            "d6f0d06f053a440cafde57338aa8fd1b",
            "5c3f72e21147402abf08a4bff4c727ac",
            "ed29de9afc714473be14fc02284a1cc4",
            "52065b7d096548d38ec701c3051d4178",
            "e44cd28aa3bc416e8926967929759679",
            "cb7e7c9fdc114f66a3b6f71e97054d32",
            "51212db938e84b6f92d881abc21d3b68",
            "8f8b4ee06dd14a099eda60e3c1c6831f",
            "4efc8f0563204973aa3b95327107a2e9",
            "9447df5324564073ac0cbc80b9c9b98e",
            "ed4fc4e993604f09a32d04a1307e69c7",
            "e70a8d33a90243a784a54b19b393e471",
            "efc1bf83d1bc4741bfcf9c0a1df63cd4",
            "9dcfb028926c4c648b02d9680fc5604e",
            "85d0fd910edd47c4811eec68b92a758b",
            "9af72d0503ae46458b9b6b5eb8f0c44b",
            "28e2e1cef35f4283abdc2cc33b492952",
            "01360202375f48a18ef463e764e747c8"
          ]
        },
        "outputId": "70945793-af56-430c-cbf0-365f885e86e8"
      },
      "execution_count": 10,
      "outputs": [
        {
          "output_type": "display_data",
          "data": {
            "text/plain": [
              "README.md: 0.00B [00:00, ?B/s]"
            ],
            "application/vnd.jupyter.widget-view+json": {
              "version_major": 2,
              "version_minor": 0,
              "model_id": "a1fae1f605474202b7c1fe93c8139699"
            }
          },
          "metadata": {}
        },
        {
          "output_type": "display_data",
          "data": {
            "text/plain": [
              "quotes.jsonl:   0%|          | 0.00/647k [00:00<?, ?B/s]"
            ],
            "application/vnd.jupyter.widget-view+json": {
              "version_major": 2,
              "version_minor": 0,
              "model_id": "08081f8b13b54ac6adc4bec69c9123dc"
            }
          },
          "metadata": {}
        },
        {
          "output_type": "display_data",
          "data": {
            "text/plain": [
              "Generating train split:   0%|          | 0/2508 [00:00<?, ? examples/s]"
            ],
            "application/vnd.jupyter.widget-view+json": {
              "version_major": 2,
              "version_minor": 0,
              "model_id": "fbed9bce4d044278a4d7c42940a28a69"
            }
          },
          "metadata": {}
        },
        {
          "output_type": "display_data",
          "data": {
            "text/plain": [
              "Map:   0%|          | 0/2508 [00:00<?, ? examples/s]"
            ],
            "application/vnd.jupyter.widget-view+json": {
              "version_major": 2,
              "version_minor": 0,
              "model_id": "8f8b4ee06dd14a099eda60e3c1c6831f"
            }
          },
          "metadata": {}
        }
      ]
    },
    {
      "cell_type": "code",
      "source": [
        "data[\"train\"][\"quote\"]\n"
      ],
      "metadata": {
        "id": "4LnVFRjW6ILM",
        "colab": {
          "base_uri": "https://localhost:8080/"
        },
        "outputId": "d7d80a41-9408-4555-a088-69311dca4f84"
      },
      "execution_count": 11,
      "outputs": [
        {
          "output_type": "execute_result",
          "data": {
            "text/plain": [
              "Column(['“Be yourself; everyone else is already taken.”', \"“I'm selfish, impatient and a little insecure. I make mistakes, I am out of control and at times hard to handle. But if you can't handle me at my worst, then you sure as hell don't deserve me at my best.”\", \"“Two things are infinite: the universe and human stupidity; and I'm not sure about the universe.”\", '“So many books, so little time.”', '“A room without books is like a body without a soul.”'])"
            ]
          },
          "metadata": {},
          "execution_count": 11
        }
      ]
    },
    {
      "cell_type": "code",
      "source": [
        "def formatting_func(example):\n",
        "    text = f\"Quote: {example['quote'][0]}\\nAuthor: {example['author'][0]}\"\n",
        "    return [text]\n"
      ],
      "metadata": {
        "id": "iycSshE39H09"
      },
      "execution_count": 12,
      "outputs": []
    },
    {
      "cell_type": "code",
      "source": [
        "data[\"train\"]\n"
      ],
      "metadata": {
        "id": "XIVTg_F19Twn",
        "colab": {
          "base_uri": "https://localhost:8080/"
        },
        "outputId": "1530cc60-6f5b-4e77-a096-686500d85178"
      },
      "execution_count": 13,
      "outputs": [
        {
          "output_type": "execute_result",
          "data": {
            "text/plain": [
              "Dataset({\n",
              "    features: ['quote', 'author', 'tags', 'input_ids', 'attention_mask'],\n",
              "    num_rows: 2508\n",
              "})"
            ]
          },
          "metadata": {},
          "execution_count": 13
        }
      ]
    },
    {
      "cell_type": "code",
      "source": [
        "trainer = SFTTrainer(\n",
        "    model=model,\n",
        "    train_dataset=data[\"train\"],\n",
        "    args=transformers.TrainingArguments(\n",
        "        per_device_train_batch_size=1,\n",
        "        gradient_accumulation_steps=4,\n",
        "        warmup_steps=2,\n",
        "        max_steps=100,\n",
        "        learning_rate=2e-4,\n",
        "        fp16=True,\n",
        "        logging_steps=1,\n",
        "        output_dir=\"outputs\",\n",
        "        optim=\"paged_adamw_8bit\"\n",
        "    ),\n",
        "    peft_config=lora_config,\n",
        "    formatting_func=formatting_func,\n",
        ")\n"
      ],
      "metadata": {
        "id": "QFCa8dyd9by4",
        "colab": {
          "base_uri": "https://localhost:8080/",
          "height": 87,
          "referenced_widgets": [
            "28ce30777a9b469b9b995347859e6971",
            "e6079a544ef94c8e8c74e869542450f4",
            "be4b5ea0f76c44729f1d90bb0e3f4111",
            "023b9badc880415da63da2ed892b9916",
            "73656276e16840a8b17a3b9261931862",
            "b53be0a0e1c842a28e3aa041bbf3b7e2",
            "4daafc6a8dca4f5b8693c14036b7c21e",
            "218bf077fd064f9e8c5a0229b0ea42d3",
            "011c06ac89c54a40b4cc33ddb619d1e0",
            "3a109713ac674bcf9c52a7b9159be472",
            "295192b5c5ba41e09a19fb07b81d4da1"
          ]
        },
        "outputId": "ac44c970-2503-42c1-9cdc-e399bdc3f9b0"
      },
      "execution_count": 14,
      "outputs": [
        {
          "output_type": "stream",
          "name": "stderr",
          "text": [
            "WARNING:trl.trainer.sft_trainer:You passed a dataset that is already processed (contains an `input_ids` field) together with a formatting function. Therefore `formatting_func` will be ignored. Either remove the `formatting_func` or pass a dataset that is not already processed.\n"
          ]
        },
        {
          "output_type": "display_data",
          "data": {
            "text/plain": [
              "Truncating train dataset:   0%|          | 0/2508 [00:00<?, ? examples/s]"
            ],
            "application/vnd.jupyter.widget-view+json": {
              "version_major": 2,
              "version_minor": 0,
              "model_id": "28ce30777a9b469b9b995347859e6971"
            }
          },
          "metadata": {}
        }
      ]
    },
    {
      "cell_type": "code",
      "source": [
        "trainer.train()\n"
      ],
      "metadata": {
        "id": "zTz7MYa-9cmQ",
        "colab": {
          "base_uri": "https://localhost:8080/",
          "height": 1000
        },
        "outputId": "6ca06918-073b-4b63-96ee-909a9f4ef52e"
      },
      "execution_count": 15,
      "outputs": [
        {
          "output_type": "stream",
          "name": "stderr",
          "text": [
            "/usr/local/lib/python3.12/dist-packages/notebook/notebookapp.py:191: SyntaxWarning: invalid escape sequence '\\/'\n",
            "  | |_| | '_ \\/ _` / _` |  _/ -_)\n"
          ]
        },
        {
          "output_type": "display_data",
          "data": {
            "text/plain": [
              "<IPython.core.display.Javascript object>"
            ],
            "application/javascript": [
              "\n",
              "        window._wandbApiKey = new Promise((resolve, reject) => {\n",
              "            function loadScript(url) {\n",
              "            return new Promise(function(resolve, reject) {\n",
              "                let newScript = document.createElement(\"script\");\n",
              "                newScript.onerror = reject;\n",
              "                newScript.onload = resolve;\n",
              "                document.body.appendChild(newScript);\n",
              "                newScript.src = url;\n",
              "            });\n",
              "            }\n",
              "            loadScript(\"https://cdn.jsdelivr.net/npm/postmate/build/postmate.min.js\").then(() => {\n",
              "            const iframe = document.createElement('iframe')\n",
              "            iframe.style.cssText = \"width:0;height:0;border:none\"\n",
              "            document.body.appendChild(iframe)\n",
              "            const handshake = new Postmate({\n",
              "                container: iframe,\n",
              "                url: 'https://wandb.ai/authorize'\n",
              "            });\n",
              "            const timeout = setTimeout(() => reject(\"Couldn't auto authenticate\"), 5000)\n",
              "            handshake.then(function(child) {\n",
              "                child.on('authorize', data => {\n",
              "                    clearTimeout(timeout)\n",
              "                    resolve(data)\n",
              "                });\n",
              "            });\n",
              "            })\n",
              "        });\n",
              "    "
            ]
          },
          "metadata": {}
        },
        {
          "output_type": "stream",
          "name": "stderr",
          "text": [
            "\u001b[34m\u001b[1mwandb\u001b[0m: Logging into wandb.ai. (Learn how to deploy a W&B server locally: https://wandb.me/wandb-server)\n",
            "\u001b[34m\u001b[1mwandb\u001b[0m: You can find your API key in your browser here: https://wandb.ai/authorize?ref=models\n",
            "wandb: Paste an API key from your profile and hit enter:"
          ]
        },
        {
          "name": "stdout",
          "output_type": "stream",
          "text": [
            " ··········\n"
          ]
        },
        {
          "output_type": "stream",
          "name": "stderr",
          "text": [
            "\u001b[34m\u001b[1mwandb\u001b[0m: \u001b[33mWARNING\u001b[0m If you're specifying your api key in code, ensure this code is not shared publicly.\n",
            "\u001b[34m\u001b[1mwandb\u001b[0m: \u001b[33mWARNING\u001b[0m Consider setting the WANDB_API_KEY environment variable, or running `wandb login` from the command line.\n",
            "\u001b[34m\u001b[1mwandb\u001b[0m: No netrc file found, creating one.\n",
            "\u001b[34m\u001b[1mwandb\u001b[0m: Appending key for api.wandb.ai to your netrc file: /root/.netrc\n",
            "\u001b[34m\u001b[1mwandb\u001b[0m: Currently logged in as: \u001b[33mang-see-siang\u001b[0m (\u001b[33mang-see-siang-none\u001b[0m) to \u001b[32mhttps://api.wandb.ai\u001b[0m. Use \u001b[1m`wandb login --relogin`\u001b[0m to force relogin\n"
          ]
        },
        {
          "output_type": "display_data",
          "data": {
            "text/plain": [
              "<IPython.core.display.HTML object>"
            ],
            "text/html": [
              "creating run (0.5s)"
            ]
          },
          "metadata": {}
        },
        {
          "output_type": "display_data",
          "data": {
            "text/plain": [
              "<IPython.core.display.HTML object>"
            ],
            "text/html": [
              "Tracking run with wandb version 0.21.3"
            ]
          },
          "metadata": {}
        },
        {
          "output_type": "display_data",
          "data": {
            "text/plain": [
              "<IPython.core.display.HTML object>"
            ],
            "text/html": [
              "Run data is saved locally in <code>/content/wandb/run-20250913_085748-syaoiypz</code>"
            ]
          },
          "metadata": {}
        },
        {
          "output_type": "display_data",
          "data": {
            "text/plain": [
              "<IPython.core.display.HTML object>"
            ],
            "text/html": [
              "Syncing run <strong><a href='https://wandb.ai/ang-see-siang-none/huggingface/runs/syaoiypz' target=\"_blank\">silvery-monkey-4</a></strong> to <a href='https://wandb.ai/ang-see-siang-none/huggingface' target=\"_blank\">Weights & Biases</a> (<a href='https://wandb.me/developer-guide' target=\"_blank\">docs</a>)<br>"
            ]
          },
          "metadata": {}
        },
        {
          "output_type": "display_data",
          "data": {
            "text/plain": [
              "<IPython.core.display.HTML object>"
            ],
            "text/html": [
              " View project at <a href='https://wandb.ai/ang-see-siang-none/huggingface' target=\"_blank\">https://wandb.ai/ang-see-siang-none/huggingface</a>"
            ]
          },
          "metadata": {}
        },
        {
          "output_type": "display_data",
          "data": {
            "text/plain": [
              "<IPython.core.display.HTML object>"
            ],
            "text/html": [
              " View run at <a href='https://wandb.ai/ang-see-siang-none/huggingface/runs/syaoiypz' target=\"_blank\">https://wandb.ai/ang-see-siang-none/huggingface/runs/syaoiypz</a>"
            ]
          },
          "metadata": {}
        },
        {
          "output_type": "display_data",
          "data": {
            "text/plain": [
              "<IPython.core.display.HTML object>"
            ],
            "text/html": [
              "\n",
              "    <div>\n",
              "      \n",
              "      <progress value='100' max='100' style='width:300px; height:20px; vertical-align: middle;'></progress>\n",
              "      [100/100 02:27, Epoch 0/1]\n",
              "    </div>\n",
              "    <table border=\"1\" class=\"dataframe\">\n",
              "  <thead>\n",
              " <tr style=\"text-align: left;\">\n",
              "      <th>Step</th>\n",
              "      <th>Training Loss</th>\n",
              "    </tr>\n",
              "  </thead>\n",
              "  <tbody>\n",
              "    <tr>\n",
              "      <td>1</td>\n",
              "      <td>2.561500</td>\n",
              "    </tr>\n",
              "    <tr>\n",
              "      <td>2</td>\n",
              "      <td>1.626700</td>\n",
              "    </tr>\n",
              "    <tr>\n",
              "      <td>3</td>\n",
              "      <td>2.481700</td>\n",
              "    </tr>\n",
              "    <tr>\n",
              "      <td>4</td>\n",
              "      <td>2.752600</td>\n",
              "    </tr>\n",
              "    <tr>\n",
              "      <td>5</td>\n",
              "      <td>2.299300</td>\n",
              "    </tr>\n",
              "    <tr>\n",
              "      <td>6</td>\n",
              "      <td>2.474600</td>\n",
              "    </tr>\n",
              "    <tr>\n",
              "      <td>7</td>\n",
              "      <td>2.879600</td>\n",
              "    </tr>\n",
              "    <tr>\n",
              "      <td>8</td>\n",
              "      <td>2.235900</td>\n",
              "    </tr>\n",
              "    <tr>\n",
              "      <td>9</td>\n",
              "      <td>3.176700</td>\n",
              "    </tr>\n",
              "    <tr>\n",
              "      <td>10</td>\n",
              "      <td>2.217200</td>\n",
              "    </tr>\n",
              "    <tr>\n",
              "      <td>11</td>\n",
              "      <td>1.673700</td>\n",
              "    </tr>\n",
              "    <tr>\n",
              "      <td>12</td>\n",
              "      <td>1.741900</td>\n",
              "    </tr>\n",
              "    <tr>\n",
              "      <td>13</td>\n",
              "      <td>1.626700</td>\n",
              "    </tr>\n",
              "    <tr>\n",
              "      <td>14</td>\n",
              "      <td>2.578200</td>\n",
              "    </tr>\n",
              "    <tr>\n",
              "      <td>15</td>\n",
              "      <td>1.971000</td>\n",
              "    </tr>\n",
              "    <tr>\n",
              "      <td>16</td>\n",
              "      <td>2.211400</td>\n",
              "    </tr>\n",
              "    <tr>\n",
              "      <td>17</td>\n",
              "      <td>1.565300</td>\n",
              "    </tr>\n",
              "    <tr>\n",
              "      <td>18</td>\n",
              "      <td>2.508200</td>\n",
              "    </tr>\n",
              "    <tr>\n",
              "      <td>19</td>\n",
              "      <td>1.475400</td>\n",
              "    </tr>\n",
              "    <tr>\n",
              "      <td>20</td>\n",
              "      <td>1.381800</td>\n",
              "    </tr>\n",
              "    <tr>\n",
              "      <td>21</td>\n",
              "      <td>2.372700</td>\n",
              "    </tr>\n",
              "    <tr>\n",
              "      <td>22</td>\n",
              "      <td>2.328200</td>\n",
              "    </tr>\n",
              "    <tr>\n",
              "      <td>23</td>\n",
              "      <td>1.075700</td>\n",
              "    </tr>\n",
              "    <tr>\n",
              "      <td>24</td>\n",
              "      <td>2.647300</td>\n",
              "    </tr>\n",
              "    <tr>\n",
              "      <td>25</td>\n",
              "      <td>2.247200</td>\n",
              "    </tr>\n",
              "    <tr>\n",
              "      <td>26</td>\n",
              "      <td>1.829200</td>\n",
              "    </tr>\n",
              "    <tr>\n",
              "      <td>27</td>\n",
              "      <td>1.984400</td>\n",
              "    </tr>\n",
              "    <tr>\n",
              "      <td>28</td>\n",
              "      <td>2.413400</td>\n",
              "    </tr>\n",
              "    <tr>\n",
              "      <td>29</td>\n",
              "      <td>1.734200</td>\n",
              "    </tr>\n",
              "    <tr>\n",
              "      <td>30</td>\n",
              "      <td>1.446200</td>\n",
              "    </tr>\n",
              "    <tr>\n",
              "      <td>31</td>\n",
              "      <td>2.859500</td>\n",
              "    </tr>\n",
              "    <tr>\n",
              "      <td>32</td>\n",
              "      <td>2.191300</td>\n",
              "    </tr>\n",
              "    <tr>\n",
              "      <td>33</td>\n",
              "      <td>2.614000</td>\n",
              "    </tr>\n",
              "    <tr>\n",
              "      <td>34</td>\n",
              "      <td>2.192000</td>\n",
              "    </tr>\n",
              "    <tr>\n",
              "      <td>35</td>\n",
              "      <td>1.001600</td>\n",
              "    </tr>\n",
              "    <tr>\n",
              "      <td>36</td>\n",
              "      <td>2.417000</td>\n",
              "    </tr>\n",
              "    <tr>\n",
              "      <td>37</td>\n",
              "      <td>2.691800</td>\n",
              "    </tr>\n",
              "    <tr>\n",
              "      <td>38</td>\n",
              "      <td>2.313900</td>\n",
              "    </tr>\n",
              "    <tr>\n",
              "      <td>39</td>\n",
              "      <td>1.870100</td>\n",
              "    </tr>\n",
              "    <tr>\n",
              "      <td>40</td>\n",
              "      <td>2.138400</td>\n",
              "    </tr>\n",
              "    <tr>\n",
              "      <td>41</td>\n",
              "      <td>0.926600</td>\n",
              "    </tr>\n",
              "    <tr>\n",
              "      <td>42</td>\n",
              "      <td>2.740500</td>\n",
              "    </tr>\n",
              "    <tr>\n",
              "      <td>43</td>\n",
              "      <td>0.736600</td>\n",
              "    </tr>\n",
              "    <tr>\n",
              "      <td>44</td>\n",
              "      <td>2.819800</td>\n",
              "    </tr>\n",
              "    <tr>\n",
              "      <td>45</td>\n",
              "      <td>1.761700</td>\n",
              "    </tr>\n",
              "    <tr>\n",
              "      <td>46</td>\n",
              "      <td>2.249100</td>\n",
              "    </tr>\n",
              "    <tr>\n",
              "      <td>47</td>\n",
              "      <td>1.974700</td>\n",
              "    </tr>\n",
              "    <tr>\n",
              "      <td>48</td>\n",
              "      <td>1.815700</td>\n",
              "    </tr>\n",
              "    <tr>\n",
              "      <td>49</td>\n",
              "      <td>1.942100</td>\n",
              "    </tr>\n",
              "    <tr>\n",
              "      <td>50</td>\n",
              "      <td>1.463100</td>\n",
              "    </tr>\n",
              "    <tr>\n",
              "      <td>51</td>\n",
              "      <td>2.513500</td>\n",
              "    </tr>\n",
              "    <tr>\n",
              "      <td>52</td>\n",
              "      <td>2.050500</td>\n",
              "    </tr>\n",
              "    <tr>\n",
              "      <td>53</td>\n",
              "      <td>2.966600</td>\n",
              "    </tr>\n",
              "    <tr>\n",
              "      <td>54</td>\n",
              "      <td>2.188400</td>\n",
              "    </tr>\n",
              "    <tr>\n",
              "      <td>55</td>\n",
              "      <td>1.757400</td>\n",
              "    </tr>\n",
              "    <tr>\n",
              "      <td>56</td>\n",
              "      <td>2.244400</td>\n",
              "    </tr>\n",
              "    <tr>\n",
              "      <td>57</td>\n",
              "      <td>2.093700</td>\n",
              "    </tr>\n",
              "    <tr>\n",
              "      <td>58</td>\n",
              "      <td>1.528400</td>\n",
              "    </tr>\n",
              "    <tr>\n",
              "      <td>59</td>\n",
              "      <td>2.076100</td>\n",
              "    </tr>\n",
              "    <tr>\n",
              "      <td>60</td>\n",
              "      <td>1.042700</td>\n",
              "    </tr>\n",
              "    <tr>\n",
              "      <td>61</td>\n",
              "      <td>1.511000</td>\n",
              "    </tr>\n",
              "    <tr>\n",
              "      <td>62</td>\n",
              "      <td>2.799300</td>\n",
              "    </tr>\n",
              "    <tr>\n",
              "      <td>63</td>\n",
              "      <td>1.076500</td>\n",
              "    </tr>\n",
              "    <tr>\n",
              "      <td>64</td>\n",
              "      <td>2.124400</td>\n",
              "    </tr>\n",
              "    <tr>\n",
              "      <td>65</td>\n",
              "      <td>2.583300</td>\n",
              "    </tr>\n",
              "    <tr>\n",
              "      <td>66</td>\n",
              "      <td>1.902500</td>\n",
              "    </tr>\n",
              "    <tr>\n",
              "      <td>67</td>\n",
              "      <td>2.151400</td>\n",
              "    </tr>\n",
              "    <tr>\n",
              "      <td>68</td>\n",
              "      <td>1.125500</td>\n",
              "    </tr>\n",
              "    <tr>\n",
              "      <td>69</td>\n",
              "      <td>1.283400</td>\n",
              "    </tr>\n",
              "    <tr>\n",
              "      <td>70</td>\n",
              "      <td>2.346000</td>\n",
              "    </tr>\n",
              "    <tr>\n",
              "      <td>71</td>\n",
              "      <td>1.001200</td>\n",
              "    </tr>\n",
              "    <tr>\n",
              "      <td>72</td>\n",
              "      <td>1.454000</td>\n",
              "    </tr>\n",
              "    <tr>\n",
              "      <td>73</td>\n",
              "      <td>1.575400</td>\n",
              "    </tr>\n",
              "    <tr>\n",
              "      <td>74</td>\n",
              "      <td>2.511600</td>\n",
              "    </tr>\n",
              "    <tr>\n",
              "      <td>75</td>\n",
              "      <td>1.674800</td>\n",
              "    </tr>\n",
              "    <tr>\n",
              "      <td>76</td>\n",
              "      <td>1.550500</td>\n",
              "    </tr>\n",
              "    <tr>\n",
              "      <td>77</td>\n",
              "      <td>2.890700</td>\n",
              "    </tr>\n",
              "    <tr>\n",
              "      <td>78</td>\n",
              "      <td>1.308000</td>\n",
              "    </tr>\n",
              "    <tr>\n",
              "      <td>79</td>\n",
              "      <td>1.877100</td>\n",
              "    </tr>\n",
              "    <tr>\n",
              "      <td>80</td>\n",
              "      <td>2.151400</td>\n",
              "    </tr>\n",
              "    <tr>\n",
              "      <td>81</td>\n",
              "      <td>2.736600</td>\n",
              "    </tr>\n",
              "    <tr>\n",
              "      <td>82</td>\n",
              "      <td>2.111300</td>\n",
              "    </tr>\n",
              "    <tr>\n",
              "      <td>83</td>\n",
              "      <td>1.639100</td>\n",
              "    </tr>\n",
              "    <tr>\n",
              "      <td>84</td>\n",
              "      <td>1.996900</td>\n",
              "    </tr>\n",
              "    <tr>\n",
              "      <td>85</td>\n",
              "      <td>2.679100</td>\n",
              "    </tr>\n",
              "    <tr>\n",
              "      <td>86</td>\n",
              "      <td>2.168500</td>\n",
              "    </tr>\n",
              "    <tr>\n",
              "      <td>87</td>\n",
              "      <td>2.161900</td>\n",
              "    </tr>\n",
              "    <tr>\n",
              "      <td>88</td>\n",
              "      <td>1.906100</td>\n",
              "    </tr>\n",
              "    <tr>\n",
              "      <td>89</td>\n",
              "      <td>2.059100</td>\n",
              "    </tr>\n",
              "    <tr>\n",
              "      <td>90</td>\n",
              "      <td>2.850200</td>\n",
              "    </tr>\n",
              "    <tr>\n",
              "      <td>91</td>\n",
              "      <td>2.279700</td>\n",
              "    </tr>\n",
              "    <tr>\n",
              "      <td>92</td>\n",
              "      <td>3.121900</td>\n",
              "    </tr>\n",
              "    <tr>\n",
              "      <td>93</td>\n",
              "      <td>2.669400</td>\n",
              "    </tr>\n",
              "    <tr>\n",
              "      <td>94</td>\n",
              "      <td>2.382000</td>\n",
              "    </tr>\n",
              "    <tr>\n",
              "      <td>95</td>\n",
              "      <td>1.536200</td>\n",
              "    </tr>\n",
              "    <tr>\n",
              "      <td>96</td>\n",
              "      <td>2.723100</td>\n",
              "    </tr>\n",
              "    <tr>\n",
              "      <td>97</td>\n",
              "      <td>1.882200</td>\n",
              "    </tr>\n",
              "    <tr>\n",
              "      <td>98</td>\n",
              "      <td>2.551400</td>\n",
              "    </tr>\n",
              "    <tr>\n",
              "      <td>99</td>\n",
              "      <td>1.317100</td>\n",
              "    </tr>\n",
              "    <tr>\n",
              "      <td>100</td>\n",
              "      <td>1.343600</td>\n",
              "    </tr>\n",
              "  </tbody>\n",
              "</table><p>"
            ]
          },
          "metadata": {}
        },
        {
          "output_type": "stream",
          "name": "stderr",
          "text": [
            "/usr/local/lib/python3.12/dist-packages/peft/utils/other.py:1228: UserWarning: Unable to fetch remote file due to the following error 401 Client Error. (Request ID: Root=1-68c532a6-6751bdf04249cc4f6d67397d;3d9e2767-2b27-4b9f-a83a-4a1d8194e2c4)\n",
            "\n",
            "Cannot access gated repo for url https://huggingface.co/google/gemma-2b/resolve/main/config.json.\n",
            "Access to model google/gemma-2b is restricted. You must have access to it and be authenticated to access it. Please log in. - silently ignoring the lookup for the file config.json in google/gemma-2b.\n",
            "  warnings.warn(\n",
            "/usr/local/lib/python3.12/dist-packages/peft/utils/save_and_load.py:286: UserWarning: Could not find a config file in google/gemma-2b - will assume that the vocabulary was not modified.\n",
            "  warnings.warn(\n"
          ]
        },
        {
          "output_type": "execute_result",
          "data": {
            "text/plain": [
              "TrainOutput(global_step=100, training_loss=2.057121696472168, metrics={'train_runtime': 176.0764, 'train_samples_per_second': 2.272, 'train_steps_per_second': 0.568, 'total_flos': 189744345784320.0, 'train_loss': 2.057121696472168, 'epoch': 0.1594896331738437})"
            ]
          },
          "metadata": {},
          "execution_count": 15
        }
      ]
    },
    {
      "cell_type": "code",
      "source": [
        "text = \"Quote: A woman is like a tea bag;\"\n",
        "device = \"cuda:0\"\n",
        "inputs = tokenizer(text, return_tensors=\"pt\").to(device)\n",
        "\n",
        "outputs = model.generate(**inputs, max_new_tokens=20)\n",
        "print(tokenizer.decode(outputs[0], skip_special_tokens=True))\n"
      ],
      "metadata": {
        "id": "0XnH5gNC9hiA",
        "colab": {
          "base_uri": "https://localhost:8080/"
        },
        "outputId": "3557baa8-084a-4ad3-c5ad-20d9aa7583d1"
      },
      "execution_count": 16,
      "outputs": [
        {
          "output_type": "stream",
          "name": "stdout",
          "text": [
            "Quote: A woman is like a tea bag; you can't tell how strong she is until you put her in hot water.\n",
            "\n",
            "I'\n"
          ]
        }
      ]
    },
    {
      "cell_type": "code",
      "source": [
        "text = \"Quote: Outside of a dog, a book is man's\"\n",
        "device = \"cuda:0\"\n",
        "inputs = tokenizer(text, return_tensors=\"pt\").to(device)\n",
        "\n",
        "outputs = model.generate(**inputs, max_new_tokens=20)\n",
        "print(tokenizer.decode(outputs[0], skip_special_tokens=True))\n"
      ],
      "metadata": {
        "id": "a7OMUpCDJpOL",
        "colab": {
          "base_uri": "https://localhost:8080/"
        },
        "outputId": "679f0342-1b4f-45f3-be6f-244820853197"
      },
      "execution_count": 17,
      "outputs": [
        {
          "output_type": "stream",
          "name": "stdout",
          "text": [
            "Quote: Outside of a dog, a book is man's best friend. Inside of a dog, it's too dark to read.\n",
            "\n",
            "-Groucho\n"
          ]
        }
      ]
    }
  ]
}